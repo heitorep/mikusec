{
 "cells": [
  {
   "cell_type": "markdown",
   "metadata": {
    "id": "dprwQ2I8uwwI"
   },
   "source": [
    "# Notebook MikuSec"
   ]
  },
  {
   "cell_type": "markdown",
   "metadata": {
    "id": "rWPZ0KO_u60v"
   },
   "source": [
    "## Setup Google Colab (not necessary if running in local environment)"
   ]
  },
  {
   "cell_type": "code",
   "execution_count": 1,
   "metadata": {
    "colab": {
     "base_uri": "https://localhost:8080/"
    },
    "executionInfo": {
     "elapsed": 29595,
     "status": "ok",
     "timestamp": 1658847606009,
     "user": {
      "displayName": "Victor Takashi Hayashi",
      "userId": "03560862540367111246"
     },
     "user_tz": 180
    },
    "id": "KLnmfXz-kNq5",
    "outputId": "9170a29f-23aa-4f7d-b563-446c9b586bd7"
   },
   "outputs": [
    {
     "name": "stdout",
     "output_type": "stream",
     "text": [
      "Mounted at /content/drive\n"
     ]
    }
   ],
   "source": [
    "from google.colab import drive\n",
    "drive.mount('/content/drive', force_remount=True)\n",
    "\n",
    "path = \"/content/drive/Shareddrives/MikuSec/\""
   ]
  },
  {
   "cell_type": "markdown",
   "metadata": {
    "id": "CTPYWkeHu9z2"
   },
   "source": [
    "## Setup Telegram API"
   ]
  },
  {
   "cell_type": "markdown",
   "metadata": {
    "id": "nva5tVplDHkX"
   },
   "source": [
    "https://www.codementor.io/@garethdwyer/building-a-telegram-bot-using-python-part-1-goi5fncay"
   ]
  },
  {
   "cell_type": "code",
   "execution_count": 2,
   "metadata": {
    "executionInfo": {
     "elapsed": 830,
     "status": "ok",
     "timestamp": 1658847610391,
     "user": {
      "displayName": "Victor Takashi Hayashi",
      "userId": "03560862540367111246"
     },
     "user_tz": 180
    },
    "id": "xeMqJBfQDAy7"
   },
   "outputs": [],
   "source": [
    "import json\n",
    "import requests\n",
    "import time\n",
    "import urllib\n",
    "\n",
    "token = \"\" #Insert here your Chatbot token"
   ]
  },
  {
   "cell_type": "markdown",
   "metadata": {
    "id": "ihAoxdmfvDrL"
   },
   "source": [
    "## Setup OwlReady2 Library"
   ]
  },
  {
   "cell_type": "markdown",
   "metadata": {
    "id": "4bjJcBh2mW2T"
   },
   "source": [
    "https://owlready2.readthedocs.io/en/v0.35/intro.html#short-example-what-can-i-do-with-owlready"
   ]
  },
  {
   "cell_type": "code",
   "execution_count": 3,
   "metadata": {
    "colab": {
     "base_uri": "https://localhost:8080/"
    },
    "executionInfo": {
     "elapsed": 23988,
     "status": "ok",
     "timestamp": 1658847637187,
     "user": {
      "displayName": "Victor Takashi Hayashi",
      "userId": "03560862540367111246"
     },
     "user_tz": 180
    },
    "id": "AI7JBB3Tk1s8",
    "outputId": "81bd1b93-3283-4025-be6a-033586e00f49"
   },
   "outputs": [
    {
     "name": "stdout",
     "output_type": "stream",
     "text": [
      "Looking in indexes: https://pypi.org/simple, https://us-python.pkg.dev/colab-wheels/public/simple/\n",
      "Collecting owlready2\n",
      "  Downloading Owlready2-0.38.tar.gz (25.4 MB)\n",
      "\u001b[K     |████████████████████████████████| 25.4 MB 24.8 MB/s \n",
      "\u001b[?25hBuilding wheels for collected packages: owlready2\n",
      "  Building wheel for owlready2 (setup.py) ... \u001b[?25l\u001b[?25hdone\n",
      "  Created wheel for owlready2: filename=Owlready2-0.38-cp37-cp37m-linux_x86_64.whl size=22127077 sha256=984003a8955b7c157d9ff5dc35134f1965aee1583096f275941070cdbdaf7beb\n",
      "  Stored in directory: /root/.cache/pip/wheels/ee/48/58/3ea20d69efcb97a26048fbfcce9332412077df80d4ae52365b\n",
      "Successfully built owlready2\n",
      "Installing collected packages: owlready2\n",
      "Successfully installed owlready2-0.38\n"
     ]
    }
   ],
   "source": [
    "!pip3 install owlready2\n",
    "\n",
    "import owlready2\n",
    "\n",
    "from owlready2 import *"
   ]
  },
  {
   "cell_type": "code",
   "execution_count": 4,
   "metadata": {
    "colab": {
     "base_uri": "https://localhost:8080/"
    },
    "executionInfo": {
     "elapsed": 1685,
     "status": "ok",
     "timestamp": 1658847641022,
     "user": {
      "displayName": "Victor Takashi Hayashi",
      "userId": "03560862540367111246"
     },
     "user_tz": 180
    },
    "id": "E7-W8LNak9xT",
    "outputId": "fe655878-9ab2-4aeb-c565-cab6eedf78df"
   },
   "outputs": [
    {
     "data": {
      "text/plain": [
       "get_ontology(\"http://www.semanticweb.org/mikusec-tsundere#\")"
      ]
     },
     "execution_count": 4,
     "metadata": {},
     "output_type": "execute_result"
    }
   ],
   "source": [
    "onto_path.append(path)\n",
    "onto = get_ontology(\"mikusec-tsundere.owl\") # mikusec-padrao.owl OR mikusec-agressividade.owl OR mikusec-tsundere.owl\n",
    "onto.load()"
   ]
  },
  {
   "cell_type": "code",
   "execution_count": 5,
   "metadata": {
    "colab": {
     "base_uri": "https://localhost:8080/",
     "height": 36
    },
    "executionInfo": {
     "elapsed": 7,
     "status": "ok",
     "timestamp": 1658847644028,
     "user": {
      "displayName": "Victor Takashi Hayashi",
      "userId": "03560862540367111246"
     },
     "user_tz": 180
    },
    "id": "ywkjqz53lrDx",
    "outputId": "0b115de9-5714-4a49-edb2-9d94bdb09a9f"
   },
   "outputs": [
    {
     "data": {
      "application/vnd.google.colaboratory.intrinsic+json": {
       "type": "string"
      },
      "text/plain": [
       "'http://www.semanticweb.org/mikusec-tsundere#'"
      ]
     },
     "execution_count": 5,
     "metadata": {},
     "output_type": "execute_result"
    }
   ],
   "source": [
    "onto.base_iri"
   ]
  },
  {
   "cell_type": "code",
   "execution_count": 6,
   "metadata": {
    "colab": {
     "base_uri": "https://localhost:8080/"
    },
    "executionInfo": {
     "elapsed": 393,
     "status": "ok",
     "timestamp": 1658847646222,
     "user": {
      "displayName": "Victor Takashi Hayashi",
      "userId": "03560862540367111246"
     },
     "user_tz": 180
    },
    "id": "w2zzwvrSluiY",
    "outputId": "c172f248-7c8b-41f7-8a7b-07c6af5cf5ce"
   },
   "outputs": [
    {
     "data": {
      "text/plain": [
       "[mikusec-tsundere.pergunta, mikusec-tsundere.resposta]"
      ]
     },
     "execution_count": 6,
     "metadata": {},
     "output_type": "execute_result"
    }
   ],
   "source": [
    "list(onto.classes())"
   ]
  },
  {
   "cell_type": "code",
   "execution_count": 7,
   "metadata": {
    "colab": {
     "base_uri": "https://localhost:8080/"
    },
    "executionInfo": {
     "elapsed": 18,
     "status": "ok",
     "timestamp": 1658847647754,
     "user": {
      "displayName": "Victor Takashi Hayashi",
      "userId": "03560862540367111246"
     },
     "user_tz": 180
    },
    "id": "5aNcd1PBlymA",
    "outputId": "3ad70336-abb1-4a27-c471-f959ce3e74b1"
   },
   "outputs": [
    {
     "data": {
      "text/plain": [
       "[mikusec-tsundere.Q0,\n",
       " mikusec-tsundere.Q1,\n",
       " mikusec-tsundere.Q2,\n",
       " mikusec-tsundere.Q3,\n",
       " mikusec-tsundere.R0,\n",
       " mikusec-tsundere.R1,\n",
       " mikusec-tsundere.R2,\n",
       " mikusec-tsundere.R3,\n",
       " mikusec-tsundere.R4]"
      ]
     },
     "execution_count": 7,
     "metadata": {},
     "output_type": "execute_result"
    }
   ],
   "source": [
    "list(onto.individuals())"
   ]
  },
  {
   "cell_type": "code",
   "execution_count": 8,
   "metadata": {
    "colab": {
     "base_uri": "https://localhost:8080/",
     "height": 36
    },
    "executionInfo": {
     "elapsed": 699,
     "status": "ok",
     "timestamp": 1658847650948,
     "user": {
      "displayName": "Victor Takashi Hayashi",
      "userId": "03560862540367111246"
     },
     "user_tz": 180
    },
    "id": "f1cd8lLppxzf",
    "outputId": "bffb90ac-a807-4393-e1bb-32d4d00be202"
   },
   "outputs": [
    {
     "data": {
      "application/vnd.google.colaboratory.intrinsic+json": {
       "type": "string"
      },
      "text/plain": [
       "'Existe uma entidade confiável no sistema? (responda sim ou não)'"
      ]
     },
     "execution_count": 8,
     "metadata": {},
     "output_type": "execute_result"
    }
   ],
   "source": [
    "onto.Q1.comment[0]"
   ]
  },
  {
   "cell_type": "code",
   "execution_count": 9,
   "metadata": {
    "colab": {
     "base_uri": "https://localhost:8080/",
     "height": 36
    },
    "executionInfo": {
     "elapsed": 12,
     "status": "ok",
     "timestamp": 1658847653292,
     "user": {
      "displayName": "Victor Takashi Hayashi",
      "userId": "03560862540367111246"
     },
     "user_tz": 180
    },
    "id": "On0dqmEgtu4L",
    "outputId": "c1030a27-057f-4eb1-bc4d-55927324af94"
   },
   "outputs": [
    {
     "data": {
      "application/vnd.google.colaboratory.intrinsic+json": {
       "type": "string"
      },
      "text/plain": [
       "'CAACAgQAAxkBAAEFU6li2GQYsK1wXNq8nf4GGA4RZW-rtwACDQMAAtkjZCF0EdiV1BOCMSkE'"
      ]
     },
     "execution_count": 9,
     "metadata": {},
     "output_type": "execute_result"
    }
   ],
   "source": [
    "onto.R0.comment[0]"
   ]
  },
  {
   "cell_type": "code",
   "execution_count": 10,
   "metadata": {
    "colab": {
     "base_uri": "https://localhost:8080/",
     "height": 36
    },
    "executionInfo": {
     "elapsed": 17,
     "status": "ok",
     "timestamp": 1658847655642,
     "user": {
      "displayName": "Victor Takashi Hayashi",
      "userId": "03560862540367111246"
     },
     "user_tz": 180
    },
    "id": "oQpYjlwEt1_0",
    "outputId": "7e3dfb2e-0f5d-433f-98a9-8cb93581b6cf"
   },
   "outputs": [
    {
     "data": {
      "application/vnd.google.colaboratory.intrinsic+json": {
       "type": "string"
      },
      "text/plain": [
       "'Desculpe, não entendi...'"
      ]
     },
     "execution_count": 10,
     "metadata": {},
     "output_type": "execute_result"
    }
   ],
   "source": [
    "onto.R0.comment[1]"
   ]
  },
  {
   "cell_type": "markdown",
   "metadata": {
    "id": "aNVMAQo7vOJt"
   },
   "source": [
    "## Loop"
   ]
  },
  {
   "cell_type": "code",
   "execution_count": 11,
   "metadata": {
    "colab": {
     "base_uri": "https://localhost:8080/",
     "height": 482
    },
    "executionInfo": {
     "elapsed": 55436,
     "status": "error",
     "timestamp": 1658847718485,
     "user": {
      "displayName": "Victor Takashi Hayashi",
      "userId": "03560862540367111246"
     },
     "user_tz": 180
    },
    "id": "C-T468qlDL52",
    "outputId": "d15a0d8c-2c43-4455-fb5f-a9c1be67501f"
   },
   "outputs": [
    {
     "name": "stdout",
     "output_type": "stream",
     "text": [
      "986850750 /start\n",
      "{986850750: 0}\n",
      "1910884100 Oi\n",
      "{986850750: 0, 1910884100: 0}\n",
      "1910884100 onegai\n",
      "{986850750: 0, 1910884100: 1}\n",
      "1910884100 sim\n",
      "{986850750: 0, 1910884100: 0}\n"
     ]
    },
    {
     "ename": "KeyboardInterrupt",
     "evalue": "ignored",
     "output_type": "error",
     "traceback": [
      "\u001b[0;31m---------------------------------------------------------------------------\u001b[0m",
      "\u001b[0;31mKeyboardInterrupt\u001b[0m                         Traceback (most recent call last)",
      "\u001b[0;32m<ipython-input-11-6969bd024d42>\u001b[0m in \u001b[0;36m<module>\u001b[0;34m()\u001b[0m\n\u001b[1;32m    153\u001b[0m \u001b[0;34m\u001b[0m\u001b[0m\n\u001b[1;32m    154\u001b[0m \u001b[0;32mif\u001b[0m \u001b[0m__name__\u001b[0m \u001b[0;34m==\u001b[0m \u001b[0;34m'__main__'\u001b[0m\u001b[0;34m:\u001b[0m\u001b[0;34m\u001b[0m\u001b[0;34m\u001b[0m\u001b[0m\n\u001b[0;32m--> 155\u001b[0;31m     \u001b[0mmain\u001b[0m\u001b[0;34m(\u001b[0m\u001b[0;34m)\u001b[0m\u001b[0;34m\u001b[0m\u001b[0;34m\u001b[0m\u001b[0m\n\u001b[0m",
      "\u001b[0;32m<ipython-input-11-6969bd024d42>\u001b[0m in \u001b[0;36mmain\u001b[0;34m()\u001b[0m\n\u001b[1;32m    149\u001b[0m               \u001b[0mchat\u001b[0m \u001b[0;34m=\u001b[0m \u001b[0mupdate\u001b[0m\u001b[0;34m[\u001b[0m\u001b[0;34m\"message\"\u001b[0m\u001b[0;34m]\u001b[0m\u001b[0;34m[\u001b[0m\u001b[0;34m\"chat\"\u001b[0m\u001b[0;34m]\u001b[0m\u001b[0;34m[\u001b[0m\u001b[0;34m\"id\"\u001b[0m\u001b[0;34m]\u001b[0m\u001b[0;34m\u001b[0m\u001b[0;34m\u001b[0m\u001b[0m\n\u001b[1;32m    150\u001b[0m \u001b[0;34m\u001b[0m\u001b[0m\n\u001b[0;32m--> 151\u001b[0;31m         \u001b[0mtime\u001b[0m\u001b[0;34m.\u001b[0m\u001b[0msleep\u001b[0m\u001b[0;34m(\u001b[0m\u001b[0;36m0.5\u001b[0m\u001b[0;34m)\u001b[0m\u001b[0;34m\u001b[0m\u001b[0;34m\u001b[0m\u001b[0m\n\u001b[0m\u001b[1;32m    152\u001b[0m \u001b[0;34m\u001b[0m\u001b[0m\n\u001b[1;32m    153\u001b[0m \u001b[0;34m\u001b[0m\u001b[0m\n",
      "\u001b[0;31mKeyboardInterrupt\u001b[0m: "
     ]
    }
   ],
   "source": [
    "TOKEN = token\n",
    "URL = \"https://api.telegram.org/bot{}/\".format(TOKEN)\n",
    "\n",
    "estado = {}\n",
    "\n",
    "def get_url(url):\n",
    "    response = requests.get(url)\n",
    "    content = response.content.decode(\"utf8\")\n",
    "    return content\n",
    "\n",
    "\n",
    "def get_json_from_url(url):\n",
    "    content = get_url(url)\n",
    "    js = json.loads(content)\n",
    "    return js\n",
    "\n",
    "\n",
    "def get_updates(offset=None):\n",
    "    url = URL + \"getUpdates\"\n",
    "    if offset:\n",
    "        url += \"?offset={}\".format(offset)\n",
    "    js = get_json_from_url(url)\n",
    "    return js\n",
    "\n",
    "\n",
    "def get_last_update_id(updates):\n",
    "    update_ids = []\n",
    "    for update in updates[\"result\"]:\n",
    "        update_ids.append(int(update[\"update_id\"]))\n",
    "    return max(update_ids)\n",
    "\n",
    "\n",
    "def echo_all(updates):\n",
    "    for update in updates[\"result\"]:\n",
    "        chat = update[\"message\"][\"chat\"][\"id\"]\n",
    "        text = update[\"message\"][\"text\"]\n",
    "        print(chat, text)\n",
    "\n",
    "        try:\n",
    "\n",
    "          if ((text == onto.Q0.comment[0]) and (estado[chat] == 0)):\n",
    "            question = onto.Q1.comment[0]\n",
    "            send_message(question, chat)\n",
    "\n",
    "            estado[chat] = 1\n",
    "            print(estado)\n",
    "\n",
    "            return\n",
    "\n",
    "          if ((text == \"sim\") and (estado[chat] == 1)):\n",
    "            response = onto.R1.comment[1]\n",
    "            send_message(response, chat)\n",
    "            send_sticker(onto.R1.comment[0], chat)\n",
    "\n",
    "            estado[chat] = 0\n",
    "            print(estado)\n",
    "\n",
    "            return\n",
    "\n",
    "          if ((text == \"não\") and (estado[chat] == 1)):\n",
    "            question = onto.Q2.comment[0]\n",
    "            send_message(question, chat)\n",
    "\n",
    "            estado[chat] = 2\n",
    "            print(estado)\n",
    "\n",
    "            return\n",
    "\n",
    "          if ((text == \"não\") and (estado[chat] == 2)):\n",
    "            response = onto.R2.comment[1]\n",
    "            send_message(response, chat)\n",
    "            send_sticker(onto.R2.comment[0], chat)\n",
    "\n",
    "            estado[chat] = 0\n",
    "            print(estado)\n",
    "\n",
    "            return\n",
    "\n",
    "          if ((text == \"sim\") and (estado[chat] == 2)):\n",
    "            question = onto.Q3.comment[0]\n",
    "            send_message(question, chat)\n",
    "\n",
    "            estado[chat] = 3\n",
    "            print(estado)\n",
    "\n",
    "            return\n",
    "\n",
    "          if ((text == \"sim\") and (estado[chat] == 3)):\n",
    "            response = onto.R3.comment[1]\n",
    "            send_message(response, chat)\n",
    "            send_sticker(onto.R3.comment[0], chat)\n",
    "\n",
    "            estado[chat] = 0\n",
    "            print(estado)\n",
    "\n",
    "            return\n",
    "\n",
    "          if ((text == \"não\") and (estado[chat] == 3)):\n",
    "            response = onto.R4.comment[1]\n",
    "            send_message(response, chat)\n",
    "            send_sticker(onto.R4.comment[0], chat)\n",
    "\n",
    "            estado[chat] = 0\n",
    "            print(estado)\n",
    "\n",
    "            return\n",
    "\n",
    "          else:\n",
    "            send_message(onto.R0.comment[1], chat)\n",
    "            send_sticker(onto.R0.comment[0], chat)\n",
    "\n",
    "            estado[chat] = 0\n",
    "            print(estado)\n",
    "\n",
    "            return\n",
    "\n",
    "        except:\n",
    "          estado[chat] = 0\n",
    "\n",
    "\n",
    "def get_last_chat_id_and_text(updates):\n",
    "    num_updates = len(updates[\"result\"])\n",
    "    last_update = num_updates - 1\n",
    "    text = updates[\"result\"][last_update][\"message\"][\"text\"]\n",
    "    chat_id = updates[\"result\"][last_update][\"message\"][\"chat\"][\"id\"]\n",
    "    return (text, chat_id)\n",
    "\n",
    "\n",
    "def send_message(text, chat_id):\n",
    "    text = urllib.parse.quote_plus(text)\n",
    "    url = URL + \"sendMessage?text={}&chat_id={}\".format(text, chat_id)\n",
    "    get_url(url)\n",
    "\n",
    "\n",
    "def send_sticker(sticker_id, chat_id):\n",
    "    url = URL + \"sendSticker?chat_id={}&sticker={}\".format(chat_id, sticker_id)\n",
    "    get_url(url)    \n",
    "\n",
    "\n",
    "def main():\n",
    "    last_update_id = None\n",
    "    while True:\n",
    "        updates = get_updates(last_update_id)\n",
    "        if len(updates[\"result\"]) > 0:\n",
    "            last_update_id = get_last_update_id(updates) + 1\n",
    "            echo_all(updates)\n",
    "\n",
    "            for update in updates[\"result\"]:\n",
    "              chat = update[\"message\"][\"chat\"][\"id\"]\n",
    "\n",
    "        time.sleep(0.5)\n",
    "\n",
    "\n",
    "if __name__ == '__main__':\n",
    "    main()"
   ]
  }
 ],
 "metadata": {
  "colab": {
   "authorship_tag": "ABX9TyO+wF6USXag8GvqVbrKq45H",
   "name": "MikuSec.ipynb",
   "provenance": []
  },
  "kernelspec": {
   "display_name": "Python 3",
   "language": "python",
   "name": "python3"
  },
  "language_info": {
   "codemirror_mode": {
    "name": "ipython",
    "version": 3
   },
   "file_extension": ".py",
   "mimetype": "text/x-python",
   "name": "python",
   "nbconvert_exporter": "python",
   "pygments_lexer": "ipython3",
   "version": "3.7.6"
  }
 },
 "nbformat": 4,
 "nbformat_minor": 1
}
